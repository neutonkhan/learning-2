{
 "cells": [
  {
   "cell_type": "markdown",
   "metadata": {},
   "source": [
    "#Python Basics"
   ]
  },
  {
   "cell_type": "code",
   "execution_count": null,
   "metadata": {},
   "outputs": [],
   "source": [
    "print(\"Hello World\")"
   ]
  },
  {
   "cell_type": "markdown",
   "metadata": {},
   "source": [
    "#Python Indentation\n",
    "Indentation refers to the spaces at the beginning of a code line.\n",
    "\n",
    "Where in other programming languages the indentation in code is for readability only, the indentation in Python is very important.\n",
    "\n",
    "Python uses indentation to indicate a block of code."
   ]
  },
  {
   "cell_type": "code",
   "execution_count": null,
   "metadata": {},
   "outputs": [],
   "source": [
    "if 5 > 2:\n",
    "  print(\"Five is greater than two!\")\n",
    "if 5 > 2:\n",
    "print(\"Five is greater than 2!\")"
   ]
  },
  {
   "cell_type": "markdown",
   "metadata": {},
   "source": [
    "#Python Comments\n",
    "\n",
    "Comments can be used to explain Python code.\n",
    "\n",
    "Comments can be used to make the code more readable.\n",
    "\n",
    "Comments can be used to prevent execution when testing code."
   ]
  },
  {
   "cell_type": "code",
   "execution_count": null,
   "metadata": {},
   "outputs": [],
   "source": [
    "#This is a comment.\n",
    "print(\"Hello, World!\")\n",
    "\n",
    "''' This is also a Comment '''\n",
    "\n",
    "print(\"Lo que se ponga despues del # es un comentario\") #This is a comment\n",
    "\n",
    "#This is a comment\n",
    "#written in\n",
    "#more than just one line\n",
    "print(\"Comentario usando #!\")\n",
    "\n",
    "\"\"\"\n",
    "This is a comment\n",
    "written in\n",
    "more than just one line\n",
    "\"\"\"\n",
    "print(\"Comentarios usando ''' \")"
   ]
  },
  {
   "cell_type": "markdown",
   "metadata": {},
   "source": [
    "#Python Variables\n",
    "\n",
    "Variables are containers for storing data values.\n",
    "\n",
    "Python has no command for declaring a variable.\n",
    "\n",
    "A variable is created the moment you first assign a value to it.\n",
    "\n",
    "Variables do not need to be declared with any particular type, and can even change type after they have been set."
   ]
  },
  {
   "cell_type": "code",
   "execution_count": null,
   "metadata": {},
   "outputs": [],
   "source": [
    "#Python has no command for declaring a variable.\n",
    "#A variable is created the moment you first assign a value to it.\n",
    "\n",
    "x = 5\n",
    "y = \"John\"\n",
    "print(x)\n",
    "print(y)\n",
    "\n",
    "a = 4       # x is of type int\n",
    "a = \"Sally\" # x is now of type str\n",
    "print(a)"
   ]
  },
  {
   "cell_type": "code",
   "execution_count": null,
   "metadata": {},
   "outputs": [],
   "source": [
    "#Casting\n",
    "#If you want to specify the data type of a variable, this can be done with casting.\n",
    "\n",
    "x = str(3)    # x will be '3'\n",
    "y = int(3)    # y will be 3\n",
    "z = float(3)  # z will be 3.0"
   ]
  },
  {
   "cell_type": "code",
   "execution_count": null,
   "metadata": {},
   "outputs": [],
   "source": [
    "#You can get the data type of a variable with the type() function.\n",
    "\n",
    "x = 5\n",
    "y = \"John\"\n",
    "print(type(x))\n",
    "print(type(y))"
   ]
  },
  {
   "cell_type": "code",
   "execution_count": null,
   "metadata": {},
   "outputs": [],
   "source": [
    "#Single or Double Quotes?\n",
    "#String variables can be declared either by using single or double quotes:\n",
    "\n",
    "x = \"John\"\n",
    "# is the same as\n",
    "x = 'John'\n",
    "\n",
    "print(x)"
   ]
  },
  {
   "cell_type": "code",
   "execution_count": null,
   "metadata": {},
   "outputs": [],
   "source": [
    "#Case-Sensitive: Variable names are case-sensitive.\n",
    "\n",
    "#This will create two variables:\n",
    "a = \"4\"\n",
    "A = \"Sally\"\n",
    "#A will not overwrite a\n",
    "print(a +\" \"+ A)"
   ]
  },
  {
   "cell_type": "code",
   "execution_count": null,
   "metadata": {},
   "outputs": [],
   "source": [
    "'''Variable Names\n",
    "A variable can have a short name (like x and y) or a more descriptive name (age, carname, total_volume). Rules for Python variables:\n",
    "A variable name must start with a letter or the underscore character\n",
    "A variable name cannot start with a number\n",
    "A variable name can only contain alpha-numeric characters and underscores (A-z, 0-9, and _ )\n",
    "Variable names are case-sensitive (age, Age and AGE are three different variables)'''\n",
    "\n",
    "'''\n",
    "Illegal variable names:\n",
    "2myvar = \"John\"\n",
    "my-var = \"John\"\n",
    "my var = \"John\"\n",
    "'''\n",
    "\n",
    "#Legal variable names:\n",
    "myvar = \"John\"\n",
    "my_var = \"John\"\n",
    "_my_var = \"John\"\n",
    "myVar = \"John\"\n",
    "MYVAR = \"John\"\n",
    "myvar2 = \"John\"\n",
    "\n",
    "print(myvar)\n",
    "print(my_var)\n",
    "print(_my_var)\n",
    "print(myVar)\n",
    "print(MYVAR)\n",
    "print(myvar2)"
   ]
  },
  {
   "cell_type": "code",
   "execution_count": null,
   "metadata": {},
   "outputs": [],
   "source": [
    "'''Multi Words Variable Names\n",
    "Variable names with more than one word can be difficult to read.\n",
    "\n",
    "There are several techniques you can use to make them more readable'''\n",
    "\n",
    "#Each word, except the first, starts with a capital letter:\n",
    "myVariableName = \"Camel Case\"\n",
    "\n",
    "#Each word starts with a capital letter:\n",
    "MyVariableName = \"Pascal Case\"\n",
    "\n",
    "#Each word is separated by an underscore character:\n",
    "my_variable_name = \"Snake Case\"\n",
    "\n",
    "print(my_variable_name , ',' , MyVariableName ,'and' , myVariableName)"
   ]
  },
  {
   "cell_type": "code",
   "execution_count": null,
   "metadata": {},
   "outputs": [],
   "source": [
    "'''Many Values to Multiple Variables\n",
    "Python allows you to assign values to multiple variables in one line:'''\n",
    "\n",
    "x, y, z = \"Orange\", \"Banana\", \"Cherry\"\n",
    "print(x)\n",
    "print(y)\n",
    "print(z)\n"
   ]
  },
  {
   "cell_type": "code",
   "execution_count": null,
   "metadata": {},
   "outputs": [],
   "source": [
    "'''Many Values to Multiple Variables\n",
    "Python allows you to assign values to multiple variables in one line:'''\n",
    "\n",
    "x = y = z = \"Orange\"\n",
    "print(x)\n",
    "print(y)\n",
    "print(z)"
   ]
  },
  {
   "cell_type": "code",
   "execution_count": null,
   "metadata": {},
   "outputs": [],
   "source": [
    "'''Unpack a Collection\n",
    "If you have a collection of values in a list, tuple etc. Python allows you extract the values into variables. This is called unpacking.'''\n",
    "\n",
    "#Unpack a list:\n",
    "\n",
    "fruits = [\"Apple\", \"Banana\", \"Cherry\"]\n",
    "x, y, z = fruits\n",
    "print(x)\n",
    "print(y)\n",
    "print(z)"
   ]
  },
  {
   "cell_type": "code",
   "execution_count": null,
   "metadata": {},
   "outputs": [],
   "source": [
    "'''Output Variables\n",
    "The Python print statement is often used to output variables.\n",
    "\n",
    "To combine both text and a variable, Python uses the + character:'''\n",
    "\n",
    "x = \"awesome\"\n",
    "print(\"Python is \" + x)\n",
    "\n",
    "#equal to :\n",
    "\n",
    "x = \"Python is \"\n",
    "y = \"awesome\"\n",
    "z =  x + y\n",
    "print(z)"
   ]
  },
  {
   "cell_type": "code",
   "execution_count": null,
   "metadata": {},
   "outputs": [],
   "source": [
    "#For numbers, the + character works as a mathematical operator:\n",
    "x = 598789\n",
    "y = 106565\n",
    "print(x + y)\n",
    "\n",
    "\n",
    "'''\n",
    "x = 5\n",
    "y = \"John\"\n",
    "print(x + y)\n",
    "\n",
    "Esto daria error ya que las variables son de diferentes tipos\n",
    "'''\n"
   ]
  },
  {
   "cell_type": "code",
   "execution_count": null,
   "metadata": {},
   "outputs": [],
   "source": [
    "'''\n",
    "Global Variables\n",
    "Variables that are created outside of a function (as in all of the examples above) are known as global variables.\n",
    "\n",
    "Global variables can be used by everyone, both inside of functions and outside.\n",
    "'''\n",
    "\n",
    "x = \"awesome\"\n",
    "\n",
    "def myfunc():\n",
    "  print(\"Python is \" + x)\n",
    "\n",
    "myfunc()\n"
   ]
  },
  {
   "cell_type": "code",
   "execution_count": null,
   "metadata": {},
   "outputs": [],
   "source": [
    "'''\n",
    "If you create a variable with the same name inside a function, this variable will be local, and can only be used inside the function.\n",
    "The global variable with the same name will remain as it was, global and with the original value.\n",
    "'''\n",
    "\n",
    "x = \"awesome\"\n",
    "\n",
    "def myfunc2():\n",
    "  x = \"fantastic\"\n",
    "  print(\"Python is \" + x)\n",
    "\n",
    "myfunc2()\n",
    "\n",
    "print(\"Python is \" + x)"
   ]
  },
  {
   "cell_type": "markdown",
   "metadata": {},
   "source": [
    "Python - Variable Exercises\n",
    "https://www.w3schools.com/python/python_variables_exercises.asp"
   ]
  },
  {
   "cell_type": "markdown",
   "metadata": {},
   "source": [
    "#Python Data Types"
   ]
  },
  {
   "cell_type": "code",
   "execution_count": null,
   "metadata": {},
   "outputs": [],
   "source": [
    "'''In programming, data type is an important concept.\n",
    "\n",
    "Variables can store data of different types, and different types can do different things.\n",
    "\n",
    "Python has the following data types built-in by default, in these categories:\n",
    "\n",
    "Text Type:\tstr\n",
    "Numeric Types:\tint, float, complex\n",
    "Sequence Types:\tlist, tuple, range\n",
    "Mapping Type:\tdict\n",
    "Set Types:\tset, frozenset\n",
    "Boolean Type:\tbool\n",
    "Binary Types:\tbytes, bytearray, memoryview'''\n",
    "\n",
    "#Getting the Data Type\n",
    "x = 5\n",
    "print(type(x)) #= <class 'int'>"
   ]
  },
  {
   "cell_type": "code",
   "execution_count": null,
   "metadata": {},
   "outputs": [],
   "source": [
    "'''\n",
    "Setting the Data Type\n",
    "In Python, the data type is set when you assign a value to a variable:\n",
    "'''\n",
    "\n",
    "One = \"Hello World\"\t#str\t\n",
    "Two = 20\t#int\t\n",
    "Three = 20.5\t#float\t\n",
    "Four = 1j\t#complex\t\n",
    "Five = [\"apple\", \"banana\", \"cherry\"]\t#list\t\n",
    "Six = (\"apple\", \"banana\", \"cherry\")\t#tuple\t\n",
    "Seven = range(6)\t#range\t\n",
    "Eight = {\"name\" : \"John\", \"age\" : 36}\t#dict\t\n",
    "Nine = {\"apple\", \"banana\", \"cherry\"}\t#set\t\n",
    "Ten = frozenset({\"apple\", \"banana\", \"cherry\"})\t#frozenset\t\n",
    "Eleven = True\t#bool\t\n",
    "Twelve = b\"Hello\"\t#bytes\t\n",
    "thirteen = bytearray(5)\t#bytearray\t\n",
    "Fourteen = memoryview(bytes(5))\t#memoryview\n",
    "\n",
    "print(type(One))\n",
    "print(type(Two))\n",
    "print(type(Three))\n",
    "print(type(Four))\n",
    "print(type(Five))\n",
    "print(type(Six))\n",
    "print(type(Seven))\n",
    "print(type(Eight))\n",
    "print(type(Nine))\n",
    "print(type(Ten))\n",
    "print(type(Eleven))\n",
    "print(type(Twelve))\n",
    "print(type(thirteen))\n",
    "print(type(Fourteen))"
   ]
  },
  {
   "cell_type": "code",
   "execution_count": null,
   "metadata": {},
   "outputs": [],
   "source": [
    "'''\n",
    "Setting the Specific Data Type\n",
    "If you want to specify the data type, you can use the following constructor functions:\n",
    "'''\n",
    "\n",
    "a = str(\"Hello World\")\t#str\t\n",
    "b = int(20)\t#int\t\n",
    "c = float(20.5)\t#float\t\n",
    "d = complex(1j)\t#complex\t\n",
    "e = list((\"apple\", \"banana\", \"cherry\"))\t#list\t\n",
    "f = tuple((\"apple\", \"banana\", \"cherry\"))\t#tuple\t\n",
    "g = range(6)\t#range\t\n",
    "h = dict(name=\"John\", age=36)\t#dict\t\n",
    "i = set((\"apple\", \"banana\", \"cherry\"))\t#set\t\n",
    "j = frozenset((\"apple\", \"banana\", \"cherry\"))\t#frozenset\t\n",
    "q = bool(5)\t#bool\t\n",
    "l = bytes(5)\t#bytes\t\n",
    "m = bytearray(5)\t#bytearray\t\n",
    "n = memoryview(bytes(5))\t#memoryview\n",
    "\n",
    "print(a)\n",
    "print(b)\n",
    "print(c)\n",
    "print(d)\n",
    "print(e)\n",
    "print(f)\n",
    "print(g)\n",
    "print(h)\n",
    "print(i)\n",
    "print(j)\n",
    "print(q)\n",
    "print(q)\n",
    "print(l)\n",
    "print(m)\n",
    "print(n)"
   ]
  },
  {
   "cell_type": "code",
   "execution_count": null,
   "metadata": {},
   "outputs": [],
   "source": [
    "import sys\n",
    "\n",
    "print(sys.int_info)   # Information about the int type\n",
    "print(sys.float_info) # Information about the float type"
   ]
  },
  {
   "cell_type": "code",
   "execution_count": null,
   "metadata": {},
   "outputs": [],
   "source": [
    "x = 111111111111111111111111111111111111111111111111111111111111111111111111111111111111111111111111111111111111111111111111111111111111111111111111111111111111111111111111111111111111111111111111111111111111111111111111111111111111111111111111111111111111111111111111122222222222222222222222222222222222222222222222222222222222222222222222222222222222222222222222222222222222222222222222222222222222222222222222222222222222222222222222222222222222222222222222229999999999999999999999999999999999999999999999999999999999999999999999999999999999999999999999999999999999999999999999999999999999999999999999999999999999999999999999999999999999999999999999999999999999999999999999999999999999999999955555555555555555555555555555555555555555555555555555555555555555555555555555555555555555555555555555555555555555555555555555555555555555555555555555555555555555555555555555555555555555555555555888888888888888888888888888888888888888888888888888888888888888888888888888888888888888888888888888888888888888888888888888888888888888888888888888888888888888888888888888888888888888888888888888888888888888888888888888888888888888888888888888888888888888888888888888888888888888888888888888888888888888888888888888888888888888888888888888888888888888888888888888888888888888888888888888\n",
    "\n",
    "y = x * x * x \n",
    "\n",
    "#\n",
    "print(len(str(y)))"
   ]
  },
  {
   "cell_type": "markdown",
   "metadata": {},
   "source": [
    "#Python Data Types Exercises\n",
    "\n",
    "https://www.w3schools.com/python/exercise.asp?filename=exercise_datatypes1"
   ]
  }
 ],
 "metadata": {
  "kernelspec": {
   "display_name": "vEnv",
   "language": "python",
   "name": "python3"
  },
  "language_info": {
   "codemirror_mode": {
    "name": "ipython",
    "version": 3
   },
   "file_extension": ".py",
   "mimetype": "text/x-python",
   "name": "python",
   "nbconvert_exporter": "python",
   "pygments_lexer": "ipython3",
   "version": "3.12.2"
  }
 },
 "nbformat": 4,
 "nbformat_minor": 2
}
